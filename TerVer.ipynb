{
  "nbformat": 4,
  "nbformat_minor": 0,
  "metadata": {
    "colab": {
      "provenance": [],
      "authorship_tag": "ABX9TyOEGNvoqJFgG2Fnd1CtBUUY",
      "include_colab_link": true
    },
    "kernelspec": {
      "name": "python3",
      "display_name": "Python 3"
    },
    "language_info": {
      "name": "python"
    }
  },
  "cells": [
    {
      "cell_type": "markdown",
      "metadata": {
        "id": "view-in-github",
        "colab_type": "text"
      },
      "source": [
        "<a href=\"https://colab.research.google.com/github/Vany2002/TerVer/blob/main/TerVer.ipynb\" target=\"_parent\"><img src=\"https://colab.research.google.com/assets/colab-badge.svg\" alt=\"Open In Colab\"/></a>"
      ]
    },
    {
      "cell_type": "markdown",
      "source": [
        "Работа №1"
      ],
      "metadata": {
        "id": "YZcfcdSTpfFv"
      }
    },
    {
      "cell_type": "code",
      "source": [
        "x = 1\n",
        "y = 1\n",
        "\n",
        "if y < x + 1 and y < x^2:\n",
        "  print (\"Принадлежит области 1\")\n",
        "elif y < x + 1 and y > x^2:\n",
        "  print (\"Принадлежит области 2\")\n",
        "elif y > x + 1 and y < x^2 and x > 0:\n",
        "  print (\"Принадлежит области 3\")\n",
        "elif y > x + 1 and y > x^2:\n",
        "  print (\"Принадлежит области 4\")\n",
        "elif y < x + 1 and y > x^2 and x < 0:\n",
        "  print (\"Принадлежит области 5\")\n",
        "else:\n",
        "  print (\"Не принадлежит\")"
      ],
      "metadata": {
        "colab": {
          "base_uri": "https://localhost:8080/"
        },
        "id": "d_zexSmgpkKm",
        "outputId": "8f8d8725-cb79-467f-ff84-e8d57a401922"
      },
      "execution_count": 6,
      "outputs": [
        {
          "output_type": "stream",
          "name": "stdout",
          "text": [
            "Принадлежит области 1\n"
          ]
        }
      ]
    },
    {
      "cell_type": "markdown",
      "source": [
        "Работа №2"
      ],
      "metadata": {
        "id": "KmBCWIOEPCUX"
      }
    },
    {
      "cell_type": "code",
      "execution_count": 1,
      "metadata": {
        "colab": {
          "base_uri": "https://localhost:8080/"
        },
        "id": "MximbAUDEKr0",
        "outputId": "e42bfecb-b420-4d7b-fc33-fcf024a68828"
      },
      "outputs": [
        {
          "output_type": "stream",
          "name": "stdout",
          "text": [
            "Принадлежит области 5\n"
          ]
        }
      ],
      "source": [
        "import math\n",
        "\n",
        "x = -2\n",
        "y = 1\n",
        "\n",
        "if y < (-x) + 1 and y < x^2 and y < math.log10(x) and x > 0:\n",
        "  print (\"Принадлежит области 1\")\n",
        "elif y > (-x) + 1 and y < x^2 and y < math.log10(x) and x > 0:\n",
        "  print (\"Принадлежит области 2\")\n",
        "elif y > (-x) + 1 and y < x^2 and y > math.log10(x) and x > 0:\n",
        "  print (\"Принадлежит области 3\")\n",
        "elif y > (-x) + 1 and y > x^2:\n",
        "  print (\"Принадлежит области 4\")\n",
        "elif y < (-x) + 1 and y > x^2:\n",
        "  print (\"Принадлежит области 5\")\n",
        "elif y > (-x) + 1 and y < x^2 and x < 0:\n",
        "  print (\"Принадлежит области 6\")\n",
        "elif y < x^2 and y < (-x) + 1 and x <= 0 or y < x^2 and y < (-x) + 1 and y > math.log10(x) and x > 0:\n",
        "  print (\"Принадлежит области 7\")\n",
        "else:\n",
        "  print (\"Не принадлежит\")"
      ]
    },
    {
      "cell_type": "markdown",
      "source": [
        "Работа №3"
      ],
      "metadata": {
        "id": "BFagyrPZPOhW"
      }
    },
    {
      "cell_type": "code",
      "source": [
        "import math\n",
        "\n",
        "x = 2\n",
        "y = 1\n",
        "\n",
        "if y < x and y < 1/x and y < 0:\n",
        "  print (\"Принадлежит области 1\")\n",
        "elif y < x and y > 1/x and x > 0:\n",
        "  print (\"Принадлежит области 2\")\n",
        "elif y > x and y > 1/x and x > 0:\n",
        "  print (\"Принадлежит области 3\")\n",
        "elif y > (-x) + 1 and y > x^2:\n",
        "  print (\"Принадлежит области 4\")\n",
        "elif y < (-x) + 1 and y > x^2:\n",
        "  print (\"Принадлежит области 5\")\n",
        "elif y > (-x) + 1 and y < x^2 and x < 0:\n",
        "  print (\"Принадлежит области 6\")\n",
        "else:\n",
        "  print (\"Не принадлежит\")"
      ],
      "metadata": {
        "id": "WUBhhOvaPBqB",
        "colab": {
          "base_uri": "https://localhost:8080/"
        },
        "outputId": "dc8f4196-b977-4819-d1bc-b5d1af17ca6b"
      },
      "execution_count": 2,
      "outputs": [
        {
          "output_type": "stream",
          "name": "stdout",
          "text": [
            "Принадлежит области 2\n"
          ]
        }
      ]
    }
  ]
}